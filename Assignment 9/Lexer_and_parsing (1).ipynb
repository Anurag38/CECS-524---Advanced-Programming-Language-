{
  "nbformat": 4,
  "nbformat_minor": 0,
  "metadata": {
    "colab": {
      "provenance": [],
      "collapsed_sections": []
    },
    "kernelspec": {
      "name": "python3",
      "display_name": "Python 3"
    },
    "language_info": {
      "name": "python"
    }
  },
  "cells": [
    {
      "cell_type": "code",
      "execution_count": null,
      "metadata": {
        "id": "dR30uElsUpE0",
        "colab": {
          "base_uri": "https://localhost:8080/"
        },
        "outputId": "9a536921-176c-443a-d99e-d67dec9d2364"
      },
      "outputs": [
        {
          "name": "stdout",
          "output_type": "stream",
          "text": [
            "Enter/Paste your content. Ctrl-D or Ctrl-Z ( windows ) to save it.\n",
            "LET A = 4  LET B = 5  LET C = A * B + 7  PRINT A  PRINT \" * \"  PRINT B  PRINT \" + 7 = \"  PRINTLN C\n",
            "\u0004\n"
          ]
        }
      ],
      "source": [
        "print(\"Enter/Paste your content. Ctrl-D or Ctrl-Z ( windows ) to save it.\")\n",
        "contents = []\n",
        "while True:\n",
        "    try:\n",
        "        line = input()\n",
        "    except EOFError:\n",
        "        break\n",
        "    contents.append(line)"
      ]
    },
    {
      "cell_type": "code",
      "source": [
        "contents"
      ],
      "metadata": {
        "colab": {
          "base_uri": "https://localhost:8080/"
        },
        "id": "PVtgS7T0_TNp",
        "outputId": "d56726f1-0163-45d8-8eab-f6939c2a02d0"
      },
      "execution_count": null,
      "outputs": [
        {
          "output_type": "execute_result",
          "data": {
            "text/plain": [
              "['LET A = 4  LET B = 5  LET C = A * B + 7  PRINT A  PRINT \" * \"  PRINT B  PRINT \" + 7 = \"  PRINTLN C']"
            ]
          },
          "metadata": {},
          "execution_count": 4
        }
      ]
    },
    {
      "cell_type": "code",
      "source": [],
      "metadata": {
        "id": "skpp6172Dbvz"
      },
      "execution_count": null,
      "outputs": []
    },
    {
      "cell_type": "code",
      "source": [],
      "metadata": {
        "id": "5tO7_J4TDby_"
      },
      "execution_count": null,
      "outputs": []
    },
    {
      "cell_type": "code",
      "source": [],
      "metadata": {
        "id": "YiE26GX7Db0-"
      },
      "execution_count": null,
      "outputs": []
    },
    {
      "cell_type": "code",
      "source": [],
      "metadata": {
        "id": "r-5Gf8xzDb3V"
      },
      "execution_count": null,
      "outputs": []
    },
    {
      "cell_type": "code",
      "source": [],
      "metadata": {
        "id": "LwDmVCK3Db5u"
      },
      "execution_count": null,
      "outputs": []
    },
    {
      "cell_type": "markdown",
      "source": [
        "#DONE\n",
        "\"50 IF A ! B THEN GOTO 80 \\n\",\n",
        "\"60 LET C = A * B \\n\",\n",
        "\n",
        "\"65 PRINT “ a * b = ” \\n\",\n",
        "\n",
        "\n",
        "\"70 PRINTLN C \\n\",\n",
        "\n",
        "\"80 X = C + X \\n\""
      ],
      "metadata": {
        "id": "gYGtksIyv7yy"
      }
    },
    {
      "cell_type": "markdown",
      "source": [
        "#DONE\n",
        "\n",
        "\"10 PRINTLN \\\" Hello, world! \\\" \\n\",\n",
        "\"20 END \\n\"\n",
        "\n"
      ],
      "metadata": {
        "id": "cc_FMp7_Db8l"
      }
    },
    {
      "cell_type": "markdown",
      "source": [
        "#DONE\n",
        "\n",
        "\"10 PRINT \\\" Enter a number: \\\" \\n\",\n",
        "\n",
        "\"20 INTEGER number \\n\",\n",
        "\n",
        "\"30 INPUT number \\n\",\n",
        "\n",
        "\"40 PRINT \\\" The number is \\\" \\n\",\n",
        "\n",
        "\"50 PRINTLN number \\n\",\n",
        "\n",
        "\"60 END \\n\""
      ],
      "metadata": {
        "id": "j3aJUT9KDuNO"
      }
    },
    {
      "cell_type": "markdown",
      "source": [
        "#DONE\n",
        "\n",
        "\"10 println \\\" Testing if then \\\" \\n\",\n",
        "\n",
        "\"20 integer a, b \\n\",\n",
        "\n",
        "\"25 print \\\" Enter a: \\\" \\n\",\n",
        "\n",
        "\"30 input a \\n\",\n",
        "\n",
        "\"35 print \\\" Enter b: \\\" \\n\",\n",
        "\n",
        "\"40 input b \\n\",\n",
        "\n",
        "\"50 if a < b then println \\\" a < b \\\" \\n\",\n",
        "\n",
        "\"60 if a = b then println \\\" a = b \\\" \\n\",\n",
        "\n",
        "\"70 if a > b then println \\\" a > b \\\" \\n\",\n",
        "\n",
        "\"80 end \\n\"\n",
        "\n"
      ],
      "metadata": {
        "id": "AwulEmz-DuQx"
      }
    },
    {
      "cell_type": "markdown",
      "source": [
        "\"10 println \\\" If block test \\\" \\n\",\n",
        "\n",
        "\"20 integer a, b \\n\",\n",
        "\n",
        "\"30 print \\\" Enter a b: \\\" \\n\",\n",
        "\n",
        "\"40 input a \\n\",\n",
        "\n",
        "\"50 input b \\n\",\n",
        "\n",
        "\"60 if a < b then goto 100 \\n\",\n",
        "\n",
        "\"70 println \\\" in if block \\\" \\n\",\n",
        "\n",
        "\"80 println \\\" doing a second statement \\\" \\n\",\n",
        "\n",
        "\"90 println \\\" and a third \\\" \\n\",\n",
        "\n",
        "\"110 println \\\" out of the block \\\" \\n\",\n",
        "\n",
        "\"200 end \\n\""
      ],
      "metadata": {
        "id": "NxI43GjCDuVo"
      }
    },
    {
      "cell_type": "markdown",
      "source": [
        "#DONE\n",
        "\"10 println \\\" line 10 \\\" \\n\",\n",
        "\n",
        "\"20 gosub 200 \\n\",\n",
        "\n",
        "\"30 println \\\" line 30 \\\" \\n\",\n",
        "\n",
        "\"40 end \\n\",\n",
        "\n",
        "\"200 println \\\" in the sub \\\" \\n\",\n",
        "\n",
        "\"210 gosub 300 \\n\",\n",
        "\n",
        "\"220 println \\\" back from 300 \\\" \\n\",\n",
        "\n",
        "\"230 ret \\n\",\n",
        "\n",
        "\"300 println \\\" start of 300 sub \\\" \\n\",\n",
        "\n",
        "\"310 ret \\n\",\n",
        "\n",
        "\"320 end \\n\""
      ],
      "metadata": {
        "id": "RV_fidC3DuYa"
      }
    },
    {
      "cell_type": "markdown",
      "source": [
        "\"10 PRINTLN \\\" This program finds the sum of 1 to n where n is entered by the user \\\" \\n\",\n",
        "\n",
        "\"20 INTEGER N, SUM, I \\n\",\n",
        "\n",
        "\"30 PRINT \\\" Enter n: \\\" \\n\",\n",
        "\n",
        "\"40 INPUT \\n\",\n",
        "\n",
        "\"50 GOSUB 100 \\n\",\n",
        "\n",
        "\"60 PRINT \\\" The sum of 1 to n is \\\" \\n\",\n",
        "\n",
        "\"65 PRINTLN SUM \\n\",\n",
        "\n",
        "\"70 PRINT \\\" Enter 0 to quit, 1 to do another sum: \\\" \\n\",\n",
        "\n",
        "\"80 INPUT SUM \\n\",\n",
        "\n",
        "\"90 IF SUM = 1 THEN GOTO 30 \\n\",\n",
        "\n",
        "\"95 END \\n\",\n",
        "\n",
        "\"100 PRINTLN \\\" Finding the sum of 1 to \\\", n \\n\",\n",
        "\n",
        "\"105 LET SUM = 0 \\n\", \n",
        "\n",
        "\"110 LET I = 1 \\n\",\n",
        "\n",
        "\"120 IF I>N THEN GOTO 160 \\n\",\n",
        "\n",
        "\"130 LET SUM = SUM + I \\n\",\n",
        "\n",
        "\"140 LET I = I + 1 \\n\",\n",
        "\n",
        "\"150 GOTO 120 \\n\",\n",
        "\n",
        "\"160 RET \\n\",\n",
        "\n",
        "\"170 END \\n\"\n",
        "\n"
      ],
      "metadata": {
        "id": "96gRQIxXM2Gp"
      }
    },
    {
      "cell_type": "markdown",
      "source": [
        "#DONE\n",
        "\n",
        "\"5 integer x, y \\n\",\n",
        "\n",
        "\"10 println \\\" pop and push test \\\" \\n\",\n",
        "\n",
        "\"15 integer b \\n\",\n",
        "\n",
        "\"18 let b = 23 \\n\",\n",
        "\n",
        "\"20 push 50*3 + b \\n\",\n",
        "\n",
        "\"30 integer a \\n\",\n",
        "\n",
        "\"40 pop a \\n\",\n",
        "\n",
        "\"50 println a \\n\",\n",
        "\n",
        "\"60 push a \\n\",\n",
        "\n",
        "\"70 pop b \\n\",\n",
        "\n",
        "\"80 println b \\n\",\n",
        "\n",
        "\"90 push 5 \\n\",\n",
        "\n",
        "\"100 push 7 \\n\",\n",
        "\n",
        "\"110 gosub 200 \\n\",\n",
        "\n",
        "\"11 push 2 \\n\",\n",
        "\n",
        "\"12 push 4 \\n\",\n",
        "\n",
        "\"13 gosub 200 \\n\",\n",
        "\n",
        "\"120 end \\n\",\n",
        "\n",
        "\"200 println \\\" in sub \\\" \\n\",\n",
        "\n",
        "\"210 pop y \\n\",\n",
        "\n",
        "\"220 pop x \\n\",\n",
        "\n",
        "\"230 println x + y \\n\",\n",
        "\n",
        "\"240 ret \\n\",\n",
        "\n",
        "\"250 end \\n\"\n",
        "\n"
      ],
      "metadata": {
        "id": "BfOeyBgaDubJ"
      }
    },
    {
      "cell_type": "code",
      "source": [
        "\"5 integer x, y \\n\",\n",
        "\n",
        "\"10 println \\\" pop and push test \\\" \\n\",\n",
        "\n",
        "\"15 integer b \\n\",\n",
        "\n",
        "\"18 let b = 23 \\n\",\n",
        "\n",
        "\"20 push 50*3 + b \\n\",\n",
        "\n",
        "\"30 integer a \\n\",\n",
        "\n",
        "\"40 pop a \\n\",\n",
        "\n",
        "\"50 println \\\" a= \\\" , a \\n\","
      ],
      "metadata": {
        "id": "9du15XaofBP9"
      },
      "execution_count": null,
      "outputs": []
    },
    {
      "cell_type": "code",
      "source": [],
      "metadata": {
        "id": "HPkihW5nfBSu"
      },
      "execution_count": null,
      "outputs": []
    },
    {
      "cell_type": "code",
      "source": [],
      "metadata": {
        "id": "3NNLqDyifBWJ"
      },
      "execution_count": null,
      "outputs": []
    },
    {
      "cell_type": "code",
      "source": [],
      "metadata": {
        "id": "DW6e4HLJ3IR7"
      },
      "execution_count": null,
      "outputs": []
    },
    {
      "cell_type": "code",
      "source": [
        "keywords = [\"LET\"\n",
        "            \"PRINT\",\n",
        "            \"PRINTLN\",\n",
        "            \"INTEGER\",\n",
        "            \"INPUT\",\n",
        "            \"GOTO\",\n",
        "            \"IF\"\n",
        "            \"THEN\",\n",
        "            \"END\"]"
      ],
      "metadata": {
        "id": "cshAJTo1CuGH"
      },
      "execution_count": 534,
      "outputs": []
    },
    {
      "cell_type": "code",
      "source": [
        "operators = [\"<\", \">\", \"!\", \"=\"]"
      ],
      "metadata": {
        "id": "d2__Kpy46BeU"
      },
      "execution_count": 603,
      "outputs": []
    },
    {
      "cell_type": "code",
      "source": [
        "memory = {}"
      ],
      "metadata": {
        "id": "G5edm5iIfvZE"
      },
      "execution_count": 604,
      "outputs": []
    },
    {
      "cell_type": "code",
      "source": [
        "instructions = {}"
      ],
      "metadata": {
        "id": "VnTy3oPZP1Kj"
      },
      "execution_count": 605,
      "outputs": []
    },
    {
      "cell_type": "code",
      "source": [
        "variables = {}"
      ],
      "metadata": {
        "id": "XUYnb_27DIf9"
      },
      "execution_count": 606,
      "outputs": []
    },
    {
      "cell_type": "code",
      "source": [
        "variables"
      ],
      "metadata": {
        "colab": {
          "base_uri": "https://localhost:8080/"
        },
        "id": "7Ah2eQ5Uyjrf",
        "outputId": "ff372514-3f93-415e-fede-efb4f85dd372"
      },
      "execution_count": 607,
      "outputs": [
        {
          "output_type": "execute_result",
          "data": {
            "text/plain": [
              "{}"
            ]
          },
          "metadata": {},
          "execution_count": 607
        }
      ]
    },
    {
      "cell_type": "code",
      "source": [
        "contents = [\"5 integer x, y \\n\",\n",
        "\n",
        "\"10 println \\\" pop and push test \\\" \\n\",\n",
        "\n",
        "\"15 integer b \\n\",\n",
        "\n",
        "\"18 let b = 23 \\n\",\n",
        "\n",
        "\"20 push 50*3 + b \\n\",\n",
        "\n",
        "\"30 integer a \\n\",\n",
        "\n",
        "\"40 pop a \\n\",\n",
        "\n",
        "\"50 println a \\n\",\n",
        "\n",
        "\"60 push a \\n\",\n",
        "\n",
        "\"70 pop b \\n\",\n",
        "\n",
        "\"80 println b \\n\",\n",
        "\n",
        "\"90 push 5 \\n\",\n",
        "\n",
        "\"100 push 7 \\n\",\n",
        "\n",
        "\"110 gosub 200 \\n\",\n",
        "\n",
        "\"11 push 2 \\n\",\n",
        "\n",
        "\"12 push 4 \\n\",\n",
        "\n",
        "\"13 gosub 200 \\n\",\n",
        "\n",
        "\"120 end \\n\",\n",
        "\n",
        "\"200 println \\\" in sub \\\" \\n\",\n",
        "\n",
        "\"210 pop y \\n\",\n",
        "\n",
        "\"220 pop x \\n\",\n",
        "\n",
        "\"230 let d = x + y \\n\",\n",
        "\n",
        "\"240 println d \\n\",\n",
        "\n",
        "\"250 ret \\n\",\n",
        "\n",
        "\"260 end \\n\"\n",
        "\n",
        "\n",
        "\n",
        "]"
      ],
      "metadata": {
        "id": "e1tRLtR4ACbH"
      },
      "execution_count": 608,
      "outputs": []
    },
    {
      "cell_type": "code",
      "source": [
        "contents = list(map(lambda x: x.upper(), contents))"
      ],
      "metadata": {
        "id": "mB4A6cGt4MMN"
      },
      "execution_count": 609,
      "outputs": []
    },
    {
      "cell_type": "code",
      "source": [
        "contents"
      ],
      "metadata": {
        "colab": {
          "base_uri": "https://localhost:8080/"
        },
        "id": "vAkkFxcf4R_A",
        "outputId": "c033b33b-129c-40c4-84f1-4147b0f99f2c"
      },
      "execution_count": 610,
      "outputs": [
        {
          "output_type": "execute_result",
          "data": {
            "text/plain": [
              "['5 INTEGER X, Y \\n',\n",
              " '10 PRINTLN \" POP AND PUSH TEST \" \\n',\n",
              " '15 INTEGER B \\n',\n",
              " '18 LET B = 23 \\n',\n",
              " '20 PUSH 50*3 + B \\n',\n",
              " '30 INTEGER A \\n',\n",
              " '40 POP A \\n',\n",
              " '50 PRINTLN A \\n',\n",
              " '60 PUSH A \\n',\n",
              " '70 POP B \\n',\n",
              " '80 PRINTLN B \\n',\n",
              " '90 PUSH 5 \\n',\n",
              " '100 PUSH 7 \\n',\n",
              " '110 GOSUB 200 \\n',\n",
              " '11 PUSH 2 \\n',\n",
              " '12 PUSH 4 \\n',\n",
              " '13 GOSUB 200 \\n',\n",
              " '120 END \\n',\n",
              " '200 PRINTLN \" IN SUB \" \\n',\n",
              " '210 POP Y \\n',\n",
              " '220 POP X \\n',\n",
              " '230 LET D = X + Y \\n',\n",
              " '240 PRINTLN D \\n',\n",
              " '250 RET \\n',\n",
              " '260 END \\n']"
            ]
          },
          "metadata": {},
          "execution_count": 610
        }
      ]
    },
    {
      "cell_type": "code",
      "source": [
        "input_file = open(\"input_file.txt\", \"w\")"
      ],
      "metadata": {
        "id": "eJlRzNH__TQQ"
      },
      "execution_count": 611,
      "outputs": []
    },
    {
      "cell_type": "code",
      "source": [
        "input_file.writelines(contents)"
      ],
      "metadata": {
        "id": "Dqy-iV0c_TTG"
      },
      "execution_count": 612,
      "outputs": []
    },
    {
      "cell_type": "code",
      "source": [
        "input_file.close()"
      ],
      "metadata": {
        "id": "vnD4IvGk_TVs"
      },
      "execution_count": 613,
      "outputs": []
    },
    {
      "cell_type": "code",
      "source": [
        "input_file = open(\"input_file.txt\", \"r\")\n",
        "# print(input_file.read())\n",
        "input_file.close()"
      ],
      "metadata": {
        "id": "FOXGZeCl_TYZ"
      },
      "execution_count": 614,
      "outputs": []
    },
    {
      "cell_type": "code",
      "source": [
        "variables"
      ],
      "metadata": {
        "colab": {
          "base_uri": "https://localhost:8080/"
        },
        "id": "ivlCqlxEMkB0",
        "outputId": "ba83c14b-5de5-43ce-bf4e-9663bdd30111"
      },
      "execution_count": 615,
      "outputs": [
        {
          "output_type": "execute_result",
          "data": {
            "text/plain": [
              "{}"
            ]
          },
          "metadata": {},
          "execution_count": 615
        }
      ]
    },
    {
      "cell_type": "code",
      "source": [
        "def assign(op : list):\n",
        "  # print(\"inside assign\")\n",
        "  # print(op)\n",
        "  for i in range(1,len(op)):\n",
        "    if op[i] == \"=\":\n",
        "      # assign the value to the variable\n",
        "      if (op[i+1].isnumeric()): \n",
        "        # print(op[i+1])\n",
        "        variables[op[i-1]] = op[i+1] \n",
        "\n",
        "      # assign the equation to the variable after evaluating the equation\n",
        "      else:\n",
        "        # print(op[i+1])\n",
        "        equation = \"\"\n",
        "        for i in range(len(op)-2):\n",
        "          if op[i+2].isalpha():\n",
        "            op[i+2] = variables[op[i+2]]\n",
        "            equation+=str(op[i+2])\n",
        "            # print(\"equation: \", equation)\n",
        "          else:\n",
        "            equation+=str(op[i+2])\n",
        "\n",
        "\n",
        "          # assign value to op[0]\n",
        "\n",
        "          # convert the equation letters to number from dictionary\n",
        "        # print(\"after x: \",equation)\n",
        "        variables[op[0]] = evaluate(equation)"
      ],
      "metadata": {
        "id": "aJAv9TLKDuul"
      },
      "execution_count": 616,
      "outputs": []
    },
    {
      "cell_type": "code",
      "source": [
        "variables"
      ],
      "metadata": {
        "colab": {
          "base_uri": "https://localhost:8080/"
        },
        "id": "B_n2p2MmQHi6",
        "outputId": "082fa307-2b3e-417c-e9d7-7e8caf184bdc"
      },
      "execution_count": 617,
      "outputs": [
        {
          "output_type": "execute_result",
          "data": {
            "text/plain": [
              "{}"
            ]
          },
          "metadata": {},
          "execution_count": 617
        }
      ]
    },
    {
      "cell_type": "code",
      "source": [
        "def printf(op : list):\n",
        "  # print(\"To be printed: \", op)\n",
        "\n",
        "  for i in range(len(op)):\n",
        "    if(op[i].isalpha()):\n",
        "      # print(\"inside alpha\")\n",
        "      print(variables[op[i]], end=\"\")\n",
        "      print()\n",
        "\n",
        "    else:\n",
        "      # print(\"inside quotes\")\n",
        "      if op[i] == \"\\\"\":\n",
        "        string = \"\"\n",
        "        i = 1\n",
        "        while i < len(op)-1:\n",
        "          string += op[i]\n",
        "          string += \" \"\n",
        "          i+=1\n",
        "        # for i in range(len(op[:])-2):\n",
        "        #   string += op[i]\n",
        "        #   string += \" \"\n",
        "        print(string)\n",
        "        break\n",
        "      # print(op[i], end=\"\")\n",
        "\n",
        "    "
      ],
      "metadata": {
        "id": "NbTE--p5K3mw"
      },
      "execution_count": 618,
      "outputs": []
    },
    {
      "cell_type": "code",
      "source": [
        "def precedence(op):\n",
        "     \n",
        "    if op == '+' or op == '-':\n",
        "        return 1\n",
        "    if op == '*' or op == '/':\n",
        "        return 2\n",
        "    return 0"
      ],
      "metadata": {
        "id": "mrx0AEpSGIxn"
      },
      "execution_count": 619,
      "outputs": []
    },
    {
      "cell_type": "code",
      "source": [
        "def applyOp(a, b, op):\n",
        "     \n",
        "    if op == '+': return a + b\n",
        "    if op == '-': return a - b\n",
        "    if op == '*': return a * b\n",
        "    if op == '/': return a // b"
      ],
      "metadata": {
        "id": "XCRGafa3GIxo"
      },
      "execution_count": 620,
      "outputs": []
    },
    {
      "cell_type": "code",
      "source": [
        "def evaluate(tokens : str) -> int:\n",
        "     \n",
        "    values = []\n",
        "\n",
        "    ops = []\n",
        "    i = 0\n",
        "     \n",
        "    while i < len(tokens):\n",
        "\n",
        "        if tokens[i] == ' ':\n",
        "            i += 1\n",
        "            continue\n",
        "\n",
        "        elif tokens[i] == '(':\n",
        "            ops.append(tokens[i])\n",
        "            \n",
        "        elif tokens[i].isdigit():\n",
        "            val = 0\n",
        "            while (i < len(tokens) and tokens[i].isdigit()):\n",
        "                val = (val * 10) + int(tokens[i])\n",
        "                i += 1           \n",
        "            values.append(val)\n",
        "            i-=1\n",
        "\n",
        "        elif tokens[i] == ')':        \n",
        "            while len(ops) != 0 and ops[-1] != '(':           \n",
        "                val2 = values.pop()\n",
        "                val1 = values.pop()\n",
        "                op = ops.pop()              \n",
        "                values.append(applyOp(val1, val2, op))\n",
        "\n",
        "            ops.pop()\n",
        "      \n",
        "        else:\n",
        "            while (len(ops) != 0 and\n",
        "                precedence(ops[-1]) >=\n",
        "                   precedence(tokens[i])):\n",
        "                         \n",
        "                val2 = values.pop()\n",
        "                val1 = values.pop()\n",
        "                op = ops.pop()\n",
        "                 \n",
        "                values.append(applyOp(val1, val2, op))\n",
        " \n",
        "            ops.append(tokens[i])\n",
        "         \n",
        "        i += 1\n",
        "\n",
        "    while len(ops) != 0:\n",
        "         \n",
        "        val2 = values.pop()\n",
        "        val1 = values.pop()\n",
        "        op = ops.pop()\n",
        "                 \n",
        "        values.append(applyOp(val1, val2, op))\n",
        "\n",
        "    return values[-1]"
      ],
      "metadata": {
        "id": "SkpHpf12GIxo"
      },
      "execution_count": 621,
      "outputs": []
    },
    {
      "cell_type": "code",
      "source": [],
      "metadata": {
        "id": "emTOzkp3jzwV"
      },
      "execution_count": 621,
      "outputs": []
    },
    {
      "cell_type": "code",
      "source": [],
      "metadata": {
        "id": "1wRHro-Ckian"
      },
      "execution_count": 621,
      "outputs": []
    },
    {
      "cell_type": "code",
      "source": [
        "def set_variable(var : str):\n",
        "  # print(var)\n",
        "  integers = var.split(\" \")\n",
        "  # print(integers)\n",
        "  for i in integers:\n",
        "    variables[i] = 0\n",
        "\n",
        "  # print(\"Updated varibales table: \", variables)"
      ],
      "metadata": {
        "id": "GKuthX8WlvZZ"
      },
      "execution_count": 622,
      "outputs": []
    },
    {
      "cell_type": "code",
      "source": [],
      "metadata": {
        "id": "NAgGsb2Lmd-K"
      },
      "execution_count": 622,
      "outputs": []
    },
    {
      "cell_type": "code",
      "source": [],
      "metadata": {
        "id": "6q7MhzoIkUhX"
      },
      "execution_count": 622,
      "outputs": []
    },
    {
      "cell_type": "code",
      "source": [
        "def evaluate_condition(condition : str):\n",
        "  # print(condition)\n",
        "  left = \"\"\n",
        "  right = \"\"\n",
        "  i = 0\n",
        "  while i < len(condition):\n",
        "    if condition[i] in operators:\n",
        "      break\n",
        "    i+=1\n",
        "\n",
        "  left = condition[:i]\n",
        "  right = condition[i+1:]\n",
        "  # print(left) \n",
        "  # print(right)\n",
        "  \n",
        "\n",
        "  # if len(right) > 1:\n",
        "  #   right = evaluate(right)\n",
        "\n",
        "  # if len(left) > 1:\n",
        "  #   left = evaluate(left)\n",
        "\n",
        "  if condition[i] == \"<\":\n",
        "    ans = int(variables[left]) < int(variables[right])\n",
        "    return ans\n",
        "  \n",
        "  elif condition[i] == \">\":\n",
        "    ans = int(variables[left]) > int(variables[right])\n",
        "    return ans\n",
        "\n",
        "  elif condition[i] == \"!\":\n",
        "    ans = int(variables[left]) != int(variables[right])\n",
        "    return ans\n",
        "\n",
        "  elif condition[i] == \"=\":\n",
        "    ans = int(variables[left]) == int(variables[right])\n",
        "    return ans\n",
        "  # equation = str(evaluate(left)) + condition[i] + str(evaluate(right))\n"
      ],
      "metadata": {
        "id": "4Yr1lvQ66oCd"
      },
      "execution_count": 623,
      "outputs": []
    },
    {
      "cell_type": "code",
      "source": [
        "def goto(l_number : str):\n",
        "  # l_number = int(l_number)\n",
        "  #loop over keys in  memory, find the index of l_number then slice it from that index to end\n",
        "  keys = memory.keys()\n",
        "  req = []\n",
        "  i = 0\n",
        "  while(keys[i] != l_number):\n",
        "    i+=1\n",
        "  req = memory.keys()[i:]\n",
        "\n",
        "  print(req)"
      ],
      "metadata": {
        "id": "2leygYoVHS8u"
      },
      "execution_count": 624,
      "outputs": []
    },
    {
      "cell_type": "code",
      "source": [
        "input_file = open(\"input_file.txt\", \"r\")\n",
        "\n",
        "for line in input_file.readlines():\n",
        "  \n",
        "  line_content = line.split(\" \")\n",
        "  print(line_content)\n",
        "\n",
        "  # split based on line number\n",
        "  for i in range(len(line_content)):\n",
        "    memory[line_content[0]] = line_content[1:-1]\n",
        "\n",
        "  \n",
        "\n",
        "  # elif line_content[0] == \"PRINT\" or line_content[0] == \"PRINTLN\":\n",
        "  #   printf(line_content[1:-1])"
      ],
      "metadata": {
        "colab": {
          "base_uri": "https://localhost:8080/"
        },
        "id": "4n9AqbQL_TbJ",
        "outputId": "a4ec52c0-3b23-4b7d-c0e5-b403ece1361a"
      },
      "execution_count": 625,
      "outputs": [
        {
          "output_type": "stream",
          "name": "stdout",
          "text": [
            "['5', 'INTEGER', 'X,', 'Y', '\\n']\n",
            "['10', 'PRINTLN', '\"', 'POP', 'AND', 'PUSH', 'TEST', '\"', '\\n']\n",
            "['15', 'INTEGER', 'B', '\\n']\n",
            "['18', 'LET', 'B', '=', '23', '\\n']\n",
            "['20', 'PUSH', '50*3', '+', 'B', '\\n']\n",
            "['30', 'INTEGER', 'A', '\\n']\n",
            "['40', 'POP', 'A', '\\n']\n",
            "['50', 'PRINTLN', 'A', '\\n']\n",
            "['60', 'PUSH', 'A', '\\n']\n",
            "['70', 'POP', 'B', '\\n']\n",
            "['80', 'PRINTLN', 'B', '\\n']\n",
            "['90', 'PUSH', '5', '\\n']\n",
            "['100', 'PUSH', '7', '\\n']\n",
            "['110', 'GOSUB', '200', '\\n']\n",
            "['11', 'PUSH', '2', '\\n']\n",
            "['12', 'PUSH', '4', '\\n']\n",
            "['13', 'GOSUB', '200', '\\n']\n",
            "['120', 'END', '\\n']\n",
            "['200', 'PRINTLN', '\"', 'IN', 'SUB', '\"', '\\n']\n",
            "['210', 'POP', 'Y', '\\n']\n",
            "['220', 'POP', 'X', '\\n']\n",
            "['230', 'LET', 'D', '=', 'X', '+', 'Y', '\\n']\n",
            "['240', 'PRINTLN', 'D', '\\n']\n",
            "['250', 'RET', '\\n']\n",
            "['260', 'END', '\\n']\n"
          ]
        }
      ]
    },
    {
      "cell_type": "code",
      "source": [
        "memory"
      ],
      "metadata": {
        "colab": {
          "base_uri": "https://localhost:8080/"
        },
        "id": "d4L8lpzqiy3U",
        "outputId": "72bf3544-7ac3-467b-e872-a0b294656c61"
      },
      "execution_count": 626,
      "outputs": [
        {
          "output_type": "execute_result",
          "data": {
            "text/plain": [
              "{'5': ['INTEGER', 'X,', 'Y'],\n",
              " '10': ['PRINTLN', '\"', 'POP', 'AND', 'PUSH', 'TEST', '\"'],\n",
              " '15': ['INTEGER', 'B'],\n",
              " '18': ['LET', 'B', '=', '23'],\n",
              " '20': ['PUSH', '50*3', '+', 'B'],\n",
              " '30': ['INTEGER', 'A'],\n",
              " '40': ['POP', 'A'],\n",
              " '50': ['PRINTLN', 'A'],\n",
              " '60': ['PUSH', 'A'],\n",
              " '70': ['POP', 'B'],\n",
              " '80': ['PRINTLN', 'B'],\n",
              " '90': ['PUSH', '5'],\n",
              " '100': ['PUSH', '7'],\n",
              " '110': ['GOSUB', '200'],\n",
              " '11': ['PUSH', '2'],\n",
              " '12': ['PUSH', '4'],\n",
              " '13': ['GOSUB', '200'],\n",
              " '120': ['END'],\n",
              " '200': ['PRINTLN', '\"', 'IN', 'SUB', '\"'],\n",
              " '210': ['POP', 'Y'],\n",
              " '220': ['POP', 'X'],\n",
              " '230': ['LET', 'D', '=', 'X', '+', 'Y'],\n",
              " '240': ['PRINTLN', 'D'],\n",
              " '250': ['RET'],\n",
              " '260': ['END']}"
            ]
          },
          "metadata": {},
          "execution_count": 626
        }
      ]
    },
    {
      "cell_type": "code",
      "source": [],
      "metadata": {
        "id": "NrZd6PZvvjCP"
      },
      "execution_count": 593,
      "outputs": []
    },
    {
      "cell_type": "code",
      "source": [
        "for l in memory:\n",
        "  print(memory[l])"
      ],
      "metadata": {
        "colab": {
          "base_uri": "https://localhost:8080/"
        },
        "id": "z5mYArTPwuPe",
        "outputId": "fccb0718-1ec9-4c16-8bcd-fffac4a11a53"
      },
      "execution_count": 361,
      "outputs": [
        {
          "output_type": "stream",
          "name": "stdout",
          "text": [
            "['PRINTLN', '\"', 'HELLO,', 'WORLD!', '\"']\n",
            "['END']\n"
          ]
        }
      ]
    },
    {
      "cell_type": "code",
      "source": [
        "ext_lnum = 0"
      ],
      "metadata": {
        "id": "CDUwolQAvv2k"
      },
      "execution_count": 282,
      "outputs": []
    },
    {
      "cell_type": "code",
      "source": [
        "for line_num in memory:\n",
        "  \n",
        "  if memory[line_num][0] == \"INTEGER\":\n",
        "    inst = \"\"\n",
        "    for i in range(1,len(memory[line_num])):\n",
        "      inst += memory[line_num][i]\n",
        "    print(\"inside integer \", inst)\n",
        "    inst = inst.replace(\",\", \" \")\n",
        "    set_variable(inst)\n",
        "\n",
        "  elif memory[line_num][0] == \"INPUT\":\n",
        "    inst = \"\"\n",
        "    # if len(memory[line_num]) > 1:\n",
        "    #   for i in range(1,len(memory[line_num])):\n",
        "    #     inst += memory[line_num][i]\n",
        "    #   inst = inst.split(\",\")\n",
        "    #   print(\"Instruction to input \", inst)\n",
        "    # else:\n",
        "    if memory[line_num][1] in variables:\n",
        "      variables[memory[line_num][1]] = input(\"Enter the value for\", memory[line_num][1], \": \")\n",
        "    else:\n",
        "      print(\"Variable doesn't exist\")\n",
        "\n",
        "  elif memory[line_num][0] == \"IF\":\n",
        "    print(\"Inside if\")\n",
        "    condition = \"\"\n",
        "    # for i in range(1,len(memory[line_num])):\n",
        "    i = 1\n",
        "    while memory[line_num][i] != \"THEN\":\n",
        "      condition += memory[line_num][i]\n",
        "      i+=1\n",
        "    print(\"condition : \", condition)\n",
        "    if evaluate_condition(condition):\n",
        "      i+=1\n",
        "      if memory[line_num][i] == \"GOTO\":\n",
        "        print(\"inside goto\")\n",
        "        goto_num = memory[line_num][i+1]\n",
        "        for l in memory:\n",
        "          if l == goto_num:\n",
        "            line_num = xy \n",
        "          xy = l\n",
        "          \n",
        "    else:        \n",
        "      continue\n",
        "\n",
        "\n",
        "\n",
        "\n"
      ],
      "metadata": {
        "colab": {
          "base_uri": "https://localhost:8080/"
        },
        "id": "Mg3rD3Zciy6I",
        "outputId": "42ce29b7-f294-4d4d-8208-4e80d74fc6e2"
      },
      "execution_count": 30,
      "outputs": [
        {
          "output_type": "stream",
          "name": "stdout",
          "text": [
            "Inside if\n",
            "condition :  A<B\n",
            "A\n",
            "B\n",
            "inside goto\n"
          ]
        }
      ]
    },
    {
      "cell_type": "code",
      "source": [],
      "metadata": {
        "id": "yg3PU4vQ8-tV"
      },
      "execution_count": null,
      "outputs": []
    },
    {
      "cell_type": "code",
      "source": [],
      "metadata": {
        "id": "WVpUlfmR8-wB"
      },
      "execution_count": null,
      "outputs": []
    },
    {
      "cell_type": "code",
      "source": [],
      "metadata": {
        "id": "EMS2wRYf8-zN"
      },
      "execution_count": null,
      "outputs": []
    },
    {
      "cell_type": "code",
      "source": [
        "k = list(memory.keys())\n",
        "v = list(memory.values())"
      ],
      "metadata": {
        "id": "2l0uznNviy8r"
      },
      "execution_count": 627,
      "outputs": []
    },
    {
      "cell_type": "code",
      "source": [
        "print(k)"
      ],
      "metadata": {
        "colab": {
          "base_uri": "https://localhost:8080/"
        },
        "id": "-XJ3ss5VC9bA",
        "outputId": "21277dd7-0f08-4fa3-8780-4e38b85f8a5f"
      },
      "execution_count": 628,
      "outputs": [
        {
          "output_type": "stream",
          "name": "stdout",
          "text": [
            "['5', '10', '15', '18', '20', '30', '40', '50', '60', '70', '80', '90', '100', '110', '11', '12', '13', '120', '200', '210', '220', '230', '240', '250', '260']\n"
          ]
        }
      ]
    },
    {
      "cell_type": "code",
      "source": [
        "print(v)"
      ],
      "metadata": {
        "colab": {
          "base_uri": "https://localhost:8080/"
        },
        "id": "1lm_dSnniy_n",
        "outputId": "e497ab05-e97d-488b-8195-fd3a7ca931ca"
      },
      "execution_count": 629,
      "outputs": [
        {
          "output_type": "stream",
          "name": "stdout",
          "text": [
            "[['INTEGER', 'X,', 'Y'], ['PRINTLN', '\"', 'POP', 'AND', 'PUSH', 'TEST', '\"'], ['INTEGER', 'B'], ['LET', 'B', '=', '23'], ['PUSH', '50*3', '+', 'B'], ['INTEGER', 'A'], ['POP', 'A'], ['PRINTLN', 'A'], ['PUSH', 'A'], ['POP', 'B'], ['PRINTLN', 'B'], ['PUSH', '5'], ['PUSH', '7'], ['GOSUB', '200'], ['PUSH', '2'], ['PUSH', '4'], ['GOSUB', '200'], ['END'], ['PRINTLN', '\"', 'IN', 'SUB', '\"'], ['POP', 'Y'], ['POP', 'X'], ['LET', 'D', '=', 'X', '+', 'Y'], ['PRINTLN', 'D'], ['RET'], ['END']]\n"
          ]
        }
      ]
    },
    {
      "cell_type": "markdown",
      "source": [
        "for line_num in memory:\n",
        "  \n",
        "  if memory[line_num][0] == \"INTEGER\":\n",
        "    inst = \"\"\n",
        "    for i in range(1,len(memory[line_num])):\n",
        "      inst += memory[line_num][i]\n",
        "    print(\"inside integer \", inst)\n",
        "    inst = inst.replace(\",\", \" \")\n",
        "    set_variable(inst)\n",
        "\n",
        "  elif memory[line_num][0] == \"INPUT\":\n",
        "    inst = \"\"\n",
        "    # if len(memory[line_num]) > 1:\n",
        "    #   for i in range(1,len(memory[line_num])):\n",
        "    #     inst += memory[line_num][i]\n",
        "    #   inst = inst.split(\",\")\n",
        "    #   print(\"Instruction to input \", inst)\n",
        "    # else:\n",
        "    if memory[line_num][1] in variables:\n",
        "      variables[memory[line_num][1]] = input(\"Enter the value for\", memory[line_num][1], \": \")\n",
        "    else:\n",
        "      print(\"Variable doesn't exist\")\n",
        "\n",
        "  elif memory[line_num][0] == \"IF\":\n",
        "    print(\"Inside if\")\n",
        "    condition = \"\"\n",
        "    # for i in range(1,len(memory[line_num])):\n",
        "    i = 1\n",
        "    while memory[line_num][i] != \"THEN\":\n",
        "      condition += memory[line_num][i]\n",
        "      i+=1\n",
        "    print(\"condition : \", condition)\n",
        "    if evaluate_condition(condition):\n",
        "      \n",
        "      i+=1\n",
        "      if memory[line_num][i] == \"GOTO\":\n",
        "        print(\"inside goto\")\n",
        "        i+=1\n",
        "        print(memory[line_num][i])\n",
        "        # j=0\n",
        "        for j in range(len(k)):\n",
        "          if k[j] != memory[line_num][i]:\n",
        "            continue\n",
        "          else:\n",
        "            goto_num = j\n",
        "            break\n",
        "        print(k[goto_num]) \n",
        "\n",
        "        \n",
        "    else:        \n",
        "      continue\n",
        "\n",
        "\n",
        "\n",
        "\n"
      ],
      "metadata": {
        "id": "1V5dO6Cqxaj3"
      }
    },
    {
      "cell_type": "code",
      "source": [],
      "metadata": {
        "id": "jkz2Xvhvn523"
      },
      "execution_count": 629,
      "outputs": []
    },
    {
      "cell_type": "code",
      "source": [],
      "metadata": {
        "id": "7uTiQTfln55o"
      },
      "execution_count": 629,
      "outputs": []
    },
    {
      "cell_type": "code",
      "source": [
        "variables"
      ],
      "metadata": {
        "colab": {
          "base_uri": "https://localhost:8080/"
        },
        "id": "kOQS_xTxn59m",
        "outputId": "01ce16c7-8377-4df3-fe0d-faa0f9c1c928"
      },
      "execution_count": 630,
      "outputs": [
        {
          "output_type": "execute_result",
          "data": {
            "text/plain": [
              "{}"
            ]
          },
          "metadata": {},
          "execution_count": 630
        }
      ]
    },
    {
      "cell_type": "code",
      "source": [
        "memory"
      ],
      "metadata": {
        "colab": {
          "base_uri": "https://localhost:8080/"
        },
        "id": "jH2_u2hLF182",
        "outputId": "7b4c1da3-2a8a-42fc-e984-4eacca813e42"
      },
      "execution_count": 631,
      "outputs": [
        {
          "output_type": "execute_result",
          "data": {
            "text/plain": [
              "{'5': ['INTEGER', 'X,', 'Y'],\n",
              " '10': ['PRINTLN', '\"', 'POP', 'AND', 'PUSH', 'TEST', '\"'],\n",
              " '15': ['INTEGER', 'B'],\n",
              " '18': ['LET', 'B', '=', '23'],\n",
              " '20': ['PUSH', '50*3', '+', 'B'],\n",
              " '30': ['INTEGER', 'A'],\n",
              " '40': ['POP', 'A'],\n",
              " '50': ['PRINTLN', 'A'],\n",
              " '60': ['PUSH', 'A'],\n",
              " '70': ['POP', 'B'],\n",
              " '80': ['PRINTLN', 'B'],\n",
              " '90': ['PUSH', '5'],\n",
              " '100': ['PUSH', '7'],\n",
              " '110': ['GOSUB', '200'],\n",
              " '11': ['PUSH', '2'],\n",
              " '12': ['PUSH', '4'],\n",
              " '13': ['GOSUB', '200'],\n",
              " '120': ['END'],\n",
              " '200': ['PRINTLN', '\"', 'IN', 'SUB', '\"'],\n",
              " '210': ['POP', 'Y'],\n",
              " '220': ['POP', 'X'],\n",
              " '230': ['LET', 'D', '=', 'X', '+', 'Y'],\n",
              " '240': ['PRINTLN', 'D'],\n",
              " '250': ['RET'],\n",
              " '260': ['END']}"
            ]
          },
          "metadata": {},
          "execution_count": 631
        }
      ]
    },
    {
      "cell_type": "code",
      "source": [
        "k"
      ],
      "metadata": {
        "colab": {
          "base_uri": "https://localhost:8080/"
        },
        "id": "ZyZIZQEsttS4",
        "outputId": "664e1a31-4225-4b9f-b10a-9d5cb1a6aba4"
      },
      "execution_count": 632,
      "outputs": [
        {
          "output_type": "execute_result",
          "data": {
            "text/plain": [
              "['5',\n",
              " '10',\n",
              " '15',\n",
              " '18',\n",
              " '20',\n",
              " '30',\n",
              " '40',\n",
              " '50',\n",
              " '60',\n",
              " '70',\n",
              " '80',\n",
              " '90',\n",
              " '100',\n",
              " '110',\n",
              " '11',\n",
              " '12',\n",
              " '13',\n",
              " '120',\n",
              " '200',\n",
              " '210',\n",
              " '220',\n",
              " '230',\n",
              " '240',\n",
              " '250',\n",
              " '260']"
            ]
          },
          "metadata": {},
          "execution_count": 632
        }
      ]
    },
    {
      "cell_type": "code",
      "source": [
        "v"
      ],
      "metadata": {
        "colab": {
          "base_uri": "https://localhost:8080/"
        },
        "id": "iGtq_5N0vhZv",
        "outputId": "0469d507-02a9-4cf5-d54f-ec76722f7bd0"
      },
      "execution_count": 633,
      "outputs": [
        {
          "output_type": "execute_result",
          "data": {
            "text/plain": [
              "[['INTEGER', 'X,', 'Y'],\n",
              " ['PRINTLN', '\"', 'POP', 'AND', 'PUSH', 'TEST', '\"'],\n",
              " ['INTEGER', 'B'],\n",
              " ['LET', 'B', '=', '23'],\n",
              " ['PUSH', '50*3', '+', 'B'],\n",
              " ['INTEGER', 'A'],\n",
              " ['POP', 'A'],\n",
              " ['PRINTLN', 'A'],\n",
              " ['PUSH', 'A'],\n",
              " ['POP', 'B'],\n",
              " ['PRINTLN', 'B'],\n",
              " ['PUSH', '5'],\n",
              " ['PUSH', '7'],\n",
              " ['GOSUB', '200'],\n",
              " ['PUSH', '2'],\n",
              " ['PUSH', '4'],\n",
              " ['GOSUB', '200'],\n",
              " ['END'],\n",
              " ['PRINTLN', '\"', 'IN', 'SUB', '\"'],\n",
              " ['POP', 'Y'],\n",
              " ['POP', 'X'],\n",
              " ['LET', 'D', '=', 'X', '+', 'Y'],\n",
              " ['PRINTLN', 'D'],\n",
              " ['RET'],\n",
              " ['END']]"
            ]
          },
          "metadata": {},
          "execution_count": 633
        }
      ]
    },
    {
      "cell_type": "markdown",
      "source": [
        "#Main thing to do"
      ],
      "metadata": {
        "id": "cQdELMrtFc43"
      }
    },
    {
      "cell_type": "code",
      "source": [],
      "metadata": {
        "id": "s4DDgtCL5yaY"
      },
      "execution_count": 633,
      "outputs": []
    },
    {
      "cell_type": "code",
      "source": [
        "line_stack = []\n",
        "num_stack = []\n",
        "x = 0\n",
        "while x < len(v):\n",
        "  # x+=1\n",
        "  # if memory[line_num][0] == \"INTEGER\":\n",
        "    # inst = \"\"\n",
        "    # for i in range(1,len(memory[line_num])):\n",
        "    #   inst += memory[line_num][i]\n",
        "    # print(\"inside integer \", inst)\n",
        "    # inst = inst.replace(\",\", \" \")\n",
        "    # set_variable(inst)\n",
        "\n",
        "\n",
        "  if v[x][0] == \"INTEGER\":\n",
        "    # print(\"inside integer\")\n",
        "    inst = \"\"\n",
        "    for i in range(1,len(v[x])):\n",
        "      inst += v[x][i]\n",
        "    # print(\"inside integer \", inst)\n",
        "    inst = inst.replace(\",\", \" \")\n",
        "    set_variable(inst)\n",
        "\n",
        "  elif v[x][0] == \"INPUT\":\n",
        "    inst = \"\"\n",
        "    # if len(v[x]) > 1:\n",
        "    #   for i in range(1,len(v[x])):\n",
        "    #     inst += v[x][i]\n",
        "    #   inst = inst.split(\",\")\n",
        "    #   print(\"Instruction to input \", inst)\n",
        "    # else:\n",
        "    print(v[x])\n",
        "    if v[x][1] in variables:\n",
        "      variables[v[x][1]] = input(\"Enter the value: \")\n",
        "    else:\n",
        "      print(\"Variable doesn't exist\")\n",
        "\n",
        "  elif v[x][0] == \"LET\":\n",
        "    # inst = \"\"\n",
        "    # for i in range(1,len(v[x])):\n",
        "    assign(v[x][1:])\n",
        "  \n",
        "\n",
        "  elif v[x][0] == \"END\":\n",
        "    break\n",
        "\n",
        "  elif v[x][0] == \"IF\":\n",
        "    condition = \"\"\n",
        "    i = 1\n",
        "    while v[x][i] != \"THEN\":\n",
        "      condition += v[x][i]\n",
        "      i+=1\n",
        "    # print(\"If condition: \", condition)\n",
        "\n",
        "    if evaluate_condition(condition):\n",
        "      i+=1\n",
        "      if v[x][i] == \"GOTO\":\n",
        "        i+=1\n",
        "        j=0\n",
        "        while k[j] != v[x][i]:\n",
        "          j+=1\n",
        "        x = j\n",
        "        # print(\"index of goto: \", j) \n",
        "        continue\n",
        "        # print(v[x])\n",
        "\n",
        "      elif v[x][i] == \"PRINT\" or v[x][i] == \"PRINTLN\":\n",
        "        \n",
        "        printf(v[x][i+1:])\n",
        "    else:\n",
        "      x+=1\n",
        "\n",
        "  elif v[x][0] == \"PRINT\" or v[x][0] == \"PRINTLN\":\n",
        "    printf(v[x][1:])\n",
        "\n",
        "  elif v[x][0] == \"GOTO\":\n",
        "    j = 0\n",
        "    while k[j] != v[x][1]:\n",
        "      j+=1\n",
        "    x = j\n",
        "\n",
        "  elif v[x][0] == \"GOSUB\":\n",
        "    # print(\"inside go sub\")\n",
        "    line_stack.append(k[x+1])\n",
        "    # print(line_stack)\n",
        "    j = 0\n",
        "    while k[j] != v[x][1]:\n",
        "      j+=1\n",
        "    x = j\n",
        "    continue\n",
        "    # if (v[x][1] in k):\n",
        "    #   # x = v[x][1]\n",
        "      \n",
        "    #   print(\"At \", x, \" : \", v[x])\n",
        "\n",
        "    # else:\n",
        "    #   print(\"Line number not found- \", v[x][1])\n",
        "\n",
        "  elif v[x][0] == \"RET\":\n",
        "    p = line_stack.pop()\n",
        "    # print(\"Popped item: \", p)\n",
        "\n",
        "    j = 0\n",
        "    while k[j] != p:\n",
        "      j+=1\n",
        "\n",
        "    x = j\n",
        "    continue\n",
        "    print(\"nex v: \", v[x])\n",
        "    # i = 0\n",
        "    # while i < len(k):\n",
        "    #   if k[i] != p:\n",
        "    #     continue\n",
        "    #   else:\n",
        "    #     x = k[i+1]\n",
        "\n",
        "    # print(\"inside ret\")\n",
        "    # print(v[x])\n",
        "\n",
        "  elif v[x][0] == \"PUSH\":\n",
        "    # print(\"inside push\")\n",
        "    expr = \"\"\n",
        "    j = 1\n",
        "    # print(v[x][1:])\n",
        "    while j < len(v[x]):\n",
        "      # print(v[x][j])\n",
        "      if v[x][j].isdigit():\n",
        "        expr+=v[x][j]\n",
        "\n",
        "      elif v[x][j].isalpha():\n",
        "        val = v[x][j]\n",
        "        d = variables[val]\n",
        "        expr+=str(d)\n",
        "\n",
        "      else:\n",
        "        expr+=v[x][j]\n",
        "      j+=1\n",
        "    num_stack.append(evaluate(expr))\n",
        "    \n",
        "  elif v[x][0] == \"POP\":\n",
        "    # print(v[x][1])\n",
        "    if v[x][1] in variables:\n",
        "      variables[v[x][1]] = num_stack.pop()\n",
        "      # num_stack.pop()\n",
        "\n",
        "  x+=1"
      ],
      "metadata": {
        "colab": {
          "base_uri": "https://localhost:8080/"
        },
        "id": "UkurpuP32KJO",
        "outputId": "6642bdb2-123d-4c27-d627-bc46933bdf75"
      },
      "execution_count": 634,
      "outputs": [
        {
          "output_type": "stream",
          "name": "stdout",
          "text": [
            "POP AND PUSH TEST \n",
            "173\n",
            "173\n",
            "IN SUB \n",
            "12\n",
            "IN SUB \n",
            "6\n"
          ]
        }
      ]
    },
    {
      "cell_type": "code",
      "source": [
        "line_stack"
      ],
      "metadata": {
        "colab": {
          "base_uri": "https://localhost:8080/"
        },
        "id": "xyUL0wSt3TkC",
        "outputId": "dea95df2-8268-4bbc-e090-ac3ff9fee851"
      },
      "execution_count": 635,
      "outputs": [
        {
          "output_type": "execute_result",
          "data": {
            "text/plain": [
              "[]"
            ]
          },
          "metadata": {},
          "execution_count": 635
        }
      ]
    },
    {
      "cell_type": "code",
      "source": [
        "variables"
      ],
      "metadata": {
        "colab": {
          "base_uri": "https://localhost:8080/"
        },
        "id": "ZPjCLxo73Tph",
        "outputId": "90c009d1-44ce-439e-a407-ed3a3ce2a4f0"
      },
      "execution_count": 568,
      "outputs": [
        {
          "output_type": "execute_result",
          "data": {
            "text/plain": [
              "{'X': 2, 'Y': 4, 'B': 173, 'A': 173, 'D': 6}"
            ]
          },
          "metadata": {},
          "execution_count": 568
        }
      ]
    },
    {
      "cell_type": "code",
      "source": [
        "evaluate(\"4 * 5 + 5\")"
      ],
      "metadata": {
        "colab": {
          "base_uri": "https://localhost:8080/"
        },
        "id": "3JYCbWHp3TsY",
        "outputId": "9d151942-48c4-42d7-d793-974f650f0609"
      },
      "execution_count": 355,
      "outputs": [
        {
          "output_type": "execute_result",
          "data": {
            "text/plain": [
              "25"
            ]
          },
          "metadata": {},
          "execution_count": 355
        }
      ]
    },
    {
      "cell_type": "code",
      "source": [
        "for x in range(len(v)):\n",
        "  \n",
        "  # if memory[line_num][0] == \"INTEGER\":\n",
        "    # inst = \"\"\n",
        "    # for i in range(1,len(memory[line_num])):\n",
        "    #   inst += memory[line_num][i]\n",
        "    # print(\"inside integer \", inst)\n",
        "    # inst = inst.replace(\",\", \" \")\n",
        "    # set_variable(inst)\n",
        "\n",
        "\n",
        "  if v[x][0] == \"INTEGER\":\n",
        "    # print(\"inside integer\")\n",
        "    inst = \"\"\n",
        "    for i in range(1,len(v[x])):\n",
        "      inst += v[x][i]\n",
        "    # print(\"inside integer \", inst)\n",
        "    inst = inst.replace(\",\", \" \")\n",
        "    set_variable(inst)\n",
        "\n",
        "  elif v[x][0] == \"INPUT\":\n",
        "    inst = \"\"\n",
        "    # if len(v[x]) > 1:\n",
        "    #   for i in range(1,len(v[x])):\n",
        "    #     inst += v[x][i]\n",
        "    #   inst = inst.split(\",\")\n",
        "    #   print(\"Instruction to input \", inst)\n",
        "    # else:\n",
        "    if v[x][1] in variables:\n",
        "      variables[v[x][1]] = input(\"Enter the value for\", v[x][1], \": \")\n",
        "    else:\n",
        "      print(\"Variable doesn't exist\")\n",
        "\n",
        "  elif v[x][0] == \"LET\":\n",
        "    # inst = \"\"\n",
        "    # for i in range(1,len(v[x])):\n",
        "    \n",
        "    assign(v[x][1:])\n",
        "  \n",
        "\n",
        "  elif v[x][0] == \"END\":\n",
        "    break\n",
        "\n",
        "  elif v[x][0] == \"IF\":\n",
        "    condition = \"\"\n",
        "    i = 1\n",
        "    while v[x][i] != \"THEN\":\n",
        "      condition += v[x][i]\n",
        "      i+=1\n",
        "    print(\"If condition: \", condition)\n",
        "\n",
        "    if evaluate_condition(condition):\n",
        "      i+=1\n",
        "      if v[x][i] == \"GOTO\":\n",
        "        # print(\"inside goto\")\n",
        "        i+=1\n",
        "        j=0\n",
        "        while k[j] != v[x][i]:\n",
        "          j+=1\n",
        "        x = j\n",
        "    else:\n",
        "      continue\n",
        "\n",
        "  elif v[x][0] == \"GOTO\":\n",
        "    # i = 0\n",
        "    # while k[i] != v[x] \n",
        "    pass\n",
        "    "
      ],
      "metadata": {
        "colab": {
          "base_uri": "https://localhost:8080/"
        },
        "id": "DHg4FPFnCygb",
        "outputId": "d130b6fd-2ea0-4da7-e05f-8216622a385f"
      },
      "execution_count": 124,
      "outputs": [
        {
          "output_type": "stream",
          "name": "stdout",
          "text": [
            "If condition:  A<B\n",
            "inside goto\n"
          ]
        }
      ]
    },
    {
      "cell_type": "code",
      "source": [],
      "metadata": {
        "id": "bxJecWQBx-xy"
      },
      "execution_count": null,
      "outputs": []
    },
    {
      "cell_type": "code",
      "source": [],
      "metadata": {
        "id": "8BDD_U8gx-07"
      },
      "execution_count": null,
      "outputs": []
    },
    {
      "cell_type": "code",
      "source": [],
      "metadata": {
        "id": "_SQySh5Tx-2u"
      },
      "execution_count": null,
      "outputs": []
    }
  ]
}