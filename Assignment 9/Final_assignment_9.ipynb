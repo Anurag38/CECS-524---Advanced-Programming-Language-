{
  "nbformat": 4,
  "nbformat_minor": 0,
  "metadata": {
    "colab": {
      "provenance": []
    },
    "kernelspec": {
      "name": "python3",
      "display_name": "Python 3"
    },
    "language_info": {
      "name": "python"
    }
  },
  "cells": [
    {
      "cell_type": "code",
      "source": [
        "keywords = [\"LET\"\n",
        "            \"PRINT\",\n",
        "            \"PRINTLN\",\n",
        "            \"INTEGER\",\n",
        "            \"INPUT\",\n",
        "            \"GOTO\",\n",
        "            \"IF\"\n",
        "            \"THEN\",\n",
        "            \"END\"]"
      ],
      "metadata": {
        "id": "cshAJTo1CuGH"
      },
      "execution_count": 34,
      "outputs": []
    },
    {
      "cell_type": "code",
      "source": [
        "operators = [\"<\", \">\", \"!\", \"=\"]"
      ],
      "metadata": {
        "id": "d2__Kpy46BeU"
      },
      "execution_count": 35,
      "outputs": []
    },
    {
      "cell_type": "code",
      "source": [
        "memory = {}"
      ],
      "metadata": {
        "id": "G5edm5iIfvZE"
      },
      "execution_count": 36,
      "outputs": []
    },
    {
      "cell_type": "code",
      "source": [
        "instructions = {}"
      ],
      "metadata": {
        "id": "VnTy3oPZP1Kj"
      },
      "execution_count": 37,
      "outputs": []
    },
    {
      "cell_type": "code",
      "source": [
        "variables = {}"
      ],
      "metadata": {
        "id": "XUYnb_27DIf9"
      },
      "execution_count": 38,
      "outputs": []
    },
    {
      "cell_type": "code",
      "source": [
        "variables"
      ],
      "metadata": {
        "colab": {
          "base_uri": "https://localhost:8080/"
        },
        "id": "7Ah2eQ5Uyjrf",
        "outputId": "f2c95e8a-7df0-4175-d4e2-45d9e94403f7"
      },
      "execution_count": 39,
      "outputs": [
        {
          "output_type": "execute_result",
          "data": {
            "text/plain": [
              "{}"
            ]
          },
          "metadata": {},
          "execution_count": 39
        }
      ]
    },
    {
      "cell_type": "code",
      "source": [
        "contents = [\"10 println \\\" line 10 \\\" \\n\",\n",
        "\n",
        "\"20 gosub 200 \\n\",\n",
        "\n",
        "\"30 println \\\" line 30 \\\" \\n\",\n",
        "\n",
        "\"40 end \\n\",\n",
        "\n",
        "\"200 println \\\" in the sub \\\" \\n\",\n",
        "\n",
        "\"210 gosub 300 \\n\",\n",
        "\n",
        "\"220 println \\\" back from 300 \\\" \\n\",\n",
        "\n",
        "\"230 ret \\n\",\n",
        "\n",
        "\"300 println \\\" start of 300 sub \\\" \\n\",\n",
        "\n",
        "\"310 ret \\n\",\n",
        "\n",
        "\"320 end \\n\"\n",
        "]"
      ],
      "metadata": {
        "id": "e1tRLtR4ACbH"
      },
      "execution_count": 40,
      "outputs": []
    },
    {
      "cell_type": "code",
      "source": [],
      "metadata": {
        "id": "xrrUDs7e3Qmj"
      },
      "execution_count": 40,
      "outputs": []
    },
    {
      "cell_type": "code",
      "source": [
        "contents = list(map(lambda x: x.upper(), contents))"
      ],
      "metadata": {
        "id": "mB4A6cGt4MMN"
      },
      "execution_count": 41,
      "outputs": []
    },
    {
      "cell_type": "code",
      "source": [
        "contents"
      ],
      "metadata": {
        "colab": {
          "base_uri": "https://localhost:8080/"
        },
        "id": "vAkkFxcf4R_A",
        "outputId": "d23ff156-ef6a-4548-902c-0ca9ff706760"
      },
      "execution_count": 42,
      "outputs": [
        {
          "output_type": "execute_result",
          "data": {
            "text/plain": [
              "['10 PRINTLN \" LINE 10 \" \\n',\n",
              " '20 GOSUB 200 \\n',\n",
              " '30 PRINTLN \" LINE 30 \" \\n',\n",
              " '40 END \\n',\n",
              " '200 PRINTLN \" IN THE SUB \" \\n',\n",
              " '210 GOSUB 300 \\n',\n",
              " '220 PRINTLN \" BACK FROM 300 \" \\n',\n",
              " '230 RET \\n',\n",
              " '300 PRINTLN \" START OF 300 SUB \" \\n',\n",
              " '310 RET \\n',\n",
              " '320 END \\n']"
            ]
          },
          "metadata": {},
          "execution_count": 42
        }
      ]
    },
    {
      "cell_type": "code",
      "source": [
        "input_file = open(\"input_file.txt\", \"w\")"
      ],
      "metadata": {
        "id": "eJlRzNH__TQQ"
      },
      "execution_count": 43,
      "outputs": []
    },
    {
      "cell_type": "code",
      "source": [
        "input_file.writelines(contents)"
      ],
      "metadata": {
        "id": "Dqy-iV0c_TTG"
      },
      "execution_count": 44,
      "outputs": []
    },
    {
      "cell_type": "code",
      "source": [
        "input_file.close()"
      ],
      "metadata": {
        "id": "vnD4IvGk_TVs"
      },
      "execution_count": 45,
      "outputs": []
    },
    {
      "cell_type": "code",
      "source": [
        "input_file = open(\"input_file.txt\", \"r\")\n",
        "# print(input_file.read())\n",
        "input_file.close()"
      ],
      "metadata": {
        "id": "FOXGZeCl_TYZ"
      },
      "execution_count": 46,
      "outputs": []
    },
    {
      "cell_type": "code",
      "source": [
        "variables"
      ],
      "metadata": {
        "colab": {
          "base_uri": "https://localhost:8080/"
        },
        "id": "ivlCqlxEMkB0",
        "outputId": "a261a44d-ac45-4e41-8289-64e92b5c5993"
      },
      "execution_count": 47,
      "outputs": [
        {
          "output_type": "execute_result",
          "data": {
            "text/plain": [
              "{}"
            ]
          },
          "metadata": {},
          "execution_count": 47
        }
      ]
    },
    {
      "cell_type": "code",
      "source": [
        "def assign(op : list):\n",
        "  # print(\"inside assign\")\n",
        "  # print(op)\n",
        "  for i in range(1,len(op)):\n",
        "    if op[i] == \"=\":\n",
        "      # assign the value to the variable\n",
        "      if (op[i+1].isnumeric()): \n",
        "        # print(op[i+1])\n",
        "        variables[op[i-1]] = op[i+1] \n",
        "\n",
        "      # assign the equation to the variable after evaluating the equation\n",
        "      else:\n",
        "        # print(op[i+1])\n",
        "        equation = \"\"\n",
        "        for i in range(len(op)-2):\n",
        "          if op[i+2].isalpha():\n",
        "            op[i+2] = variables[op[i+2]]\n",
        "            equation+=str(op[i+2])\n",
        "            # print(\"equation: \", equation)\n",
        "          else:\n",
        "            equation+=str(op[i+2])\n",
        "\n",
        "\n",
        "          # assign value to op[0]\n",
        "\n",
        "          # convert the equation letters to number from dictionary\n",
        "        # print(\"after x: \",equation)\n",
        "        variables[op[0]] = evaluate(equation)"
      ],
      "metadata": {
        "id": "aJAv9TLKDuul"
      },
      "execution_count": 48,
      "outputs": []
    },
    {
      "cell_type": "code",
      "source": [
        "variables"
      ],
      "metadata": {
        "colab": {
          "base_uri": "https://localhost:8080/"
        },
        "id": "B_n2p2MmQHi6",
        "outputId": "1b873927-9ee5-42fb-b5f3-f968f2bd8af7"
      },
      "execution_count": 49,
      "outputs": [
        {
          "output_type": "execute_result",
          "data": {
            "text/plain": [
              "{}"
            ]
          },
          "metadata": {},
          "execution_count": 49
        }
      ]
    },
    {
      "cell_type": "code",
      "source": [
        "def printf(op : list):\n",
        "  # print(\"To be printed: \", op)\n",
        "\n",
        "  for i in range(len(op)):\n",
        "    if(op[i].isalpha()):\n",
        "      # print(\"inside alpha\")\n",
        "      print(variables[op[i]], end=\"\")\n",
        "      print()\n",
        "\n",
        "    else:\n",
        "      # print(\"inside quotes\")\n",
        "      if op[i] == \"\\\"\":\n",
        "        string = \"\"\n",
        "        i = 1\n",
        "        while i < len(op)-1:\n",
        "          string += op[i]\n",
        "          string += \" \"\n",
        "          i+=1\n",
        "        # for i in range(len(op[:])-2):\n",
        "        #   string += op[i]\n",
        "        #   string += \" \"\n",
        "        print(string)\n",
        "        break\n",
        "      # print(op[i], end=\"\")\n",
        "\n",
        "    "
      ],
      "metadata": {
        "id": "NbTE--p5K3mw"
      },
      "execution_count": 50,
      "outputs": []
    },
    {
      "cell_type": "code",
      "source": [
        "def precedence(op):\n",
        "     \n",
        "    if op == '+' or op == '-':\n",
        "        return 1\n",
        "    if op == '*' or op == '/':\n",
        "        return 2\n",
        "    return 0"
      ],
      "metadata": {
        "id": "mrx0AEpSGIxn"
      },
      "execution_count": 51,
      "outputs": []
    },
    {
      "cell_type": "code",
      "source": [
        "def applyOp(a, b, op):\n",
        "     \n",
        "    if op == '+': return a + b\n",
        "    if op == '-': return a - b\n",
        "    if op == '*': return a * b\n",
        "    if op == '/': return a // b"
      ],
      "metadata": {
        "id": "XCRGafa3GIxo"
      },
      "execution_count": 52,
      "outputs": []
    },
    {
      "cell_type": "code",
      "source": [
        "def evaluate(tokens : str) -> int:\n",
        "     \n",
        "    values = []\n",
        "\n",
        "    ops = []\n",
        "    i = 0\n",
        "     \n",
        "    while i < len(tokens):\n",
        "\n",
        "        if tokens[i] == ' ':\n",
        "            i += 1\n",
        "            continue\n",
        "\n",
        "        elif tokens[i] == '(':\n",
        "            ops.append(tokens[i])\n",
        "            \n",
        "        elif tokens[i].isdigit():\n",
        "            val = 0\n",
        "            while (i < len(tokens) and tokens[i].isdigit()):\n",
        "                val = (val * 10) + int(tokens[i])\n",
        "                i += 1           \n",
        "            values.append(val)\n",
        "            i-=1\n",
        "\n",
        "        elif tokens[i] == ')':        \n",
        "            while len(ops) != 0 and ops[-1] != '(':           \n",
        "                val2 = values.pop()\n",
        "                val1 = values.pop()\n",
        "                op = ops.pop()              \n",
        "                values.append(applyOp(val1, val2, op))\n",
        "\n",
        "            ops.pop()\n",
        "      \n",
        "        else:\n",
        "            while (len(ops) != 0 and\n",
        "                precedence(ops[-1]) >=\n",
        "                   precedence(tokens[i])):\n",
        "                         \n",
        "                val2 = values.pop()\n",
        "                val1 = values.pop()\n",
        "                op = ops.pop()\n",
        "                 \n",
        "                values.append(applyOp(val1, val2, op))\n",
        " \n",
        "            ops.append(tokens[i])\n",
        "         \n",
        "        i += 1\n",
        "\n",
        "    while len(ops) != 0:\n",
        "         \n",
        "        val2 = values.pop()\n",
        "        val1 = values.pop()\n",
        "        op = ops.pop()\n",
        "                 \n",
        "        values.append(applyOp(val1, val2, op))\n",
        "\n",
        "    return values[-1]"
      ],
      "metadata": {
        "id": "SkpHpf12GIxo"
      },
      "execution_count": 53,
      "outputs": []
    },
    {
      "cell_type": "code",
      "source": [],
      "metadata": {
        "id": "emTOzkp3jzwV"
      },
      "execution_count": 53,
      "outputs": []
    },
    {
      "cell_type": "code",
      "source": [],
      "metadata": {
        "id": "1wRHro-Ckian"
      },
      "execution_count": 53,
      "outputs": []
    },
    {
      "cell_type": "code",
      "source": [
        "def set_variable(var : str):\n",
        "  # print(var)\n",
        "  integers = var.split(\" \")\n",
        "  # print(integers)\n",
        "  for i in integers:\n",
        "    variables[i] = 0\n",
        "\n",
        "  # print(\"Updated varibales table: \", variables)"
      ],
      "metadata": {
        "id": "GKuthX8WlvZZ"
      },
      "execution_count": 54,
      "outputs": []
    },
    {
      "cell_type": "code",
      "source": [],
      "metadata": {
        "id": "NAgGsb2Lmd-K"
      },
      "execution_count": 54,
      "outputs": []
    },
    {
      "cell_type": "code",
      "source": [],
      "metadata": {
        "id": "6q7MhzoIkUhX"
      },
      "execution_count": 54,
      "outputs": []
    },
    {
      "cell_type": "code",
      "source": [
        "def evaluate_condition(condition : str):\n",
        "  # print(condition)\n",
        "  left = \"\"\n",
        "  right = \"\"\n",
        "  i = 0\n",
        "  while i < len(condition):\n",
        "    if condition[i] in operators:\n",
        "      break\n",
        "    i+=1\n",
        "\n",
        "  left = condition[:i]\n",
        "  right = condition[i+1:]\n",
        "  # print(left) \n",
        "  # print(right)\n",
        "  \n",
        "\n",
        "  # if len(right) > 1:\n",
        "  #   right = evaluate(right)\n",
        "\n",
        "  # if len(left) > 1:\n",
        "  #   left = evaluate(left)\n",
        "\n",
        "  if condition[i] == \"<\":\n",
        "    ans = int(variables[left]) < int(variables[right])\n",
        "    return ans\n",
        "  \n",
        "  elif condition[i] == \">\":\n",
        "    ans = int(variables[left]) > int(variables[right])\n",
        "    return ans\n",
        "\n",
        "  elif condition[i] == \"!\":\n",
        "    ans = int(variables[left]) != int(variables[right])\n",
        "    return ans\n",
        "\n",
        "  elif condition[i] == \"=\":\n",
        "    ans = int(variables[left]) == int(variables[right])\n",
        "    return ans\n",
        "  # equation = str(evaluate(left)) + condition[i] + str(evaluate(right))\n"
      ],
      "metadata": {
        "id": "4Yr1lvQ66oCd"
      },
      "execution_count": 55,
      "outputs": []
    },
    {
      "cell_type": "code",
      "source": [
        "def goto(l_number : str):\n",
        "  # l_number = int(l_number)\n",
        "  #loop over keys in  memory, find the index of l_number then slice it from that index to end\n",
        "  keys = memory.keys()\n",
        "  req = []\n",
        "  i = 0\n",
        "  while(keys[i] != l_number):\n",
        "    i+=1\n",
        "  req = memory.keys()[i:]\n",
        "\n",
        "  print(req)"
      ],
      "metadata": {
        "id": "2leygYoVHS8u"
      },
      "execution_count": 56,
      "outputs": []
    },
    {
      "cell_type": "code",
      "source": [
        "input_file = open(\"input_file.txt\", \"r\")\n",
        "\n",
        "for line in input_file.readlines():\n",
        "  \n",
        "  line_content = line.split(\" \")\n",
        "  print(line_content)\n",
        "\n",
        "  # split based on line number\n",
        "  for i in range(len(line_content)):\n",
        "    memory[line_content[0]] = line_content[1:-1]\n",
        "\n",
        "  \n",
        "\n",
        "  # elif line_content[0] == \"PRINT\" or line_content[0] == \"PRINTLN\":\n",
        "  #   printf(line_content[1:-1])"
      ],
      "metadata": {
        "colab": {
          "base_uri": "https://localhost:8080/"
        },
        "id": "4n9AqbQL_TbJ",
        "outputId": "b17e9549-99d0-42f7-a215-0d673500b5da"
      },
      "execution_count": 57,
      "outputs": [
        {
          "output_type": "stream",
          "name": "stdout",
          "text": [
            "['10', 'PRINTLN', '\"', 'LINE', '10', '\"', '\\n']\n",
            "['20', 'GOSUB', '200', '\\n']\n",
            "['30', 'PRINTLN', '\"', 'LINE', '30', '\"', '\\n']\n",
            "['40', 'END', '\\n']\n",
            "['200', 'PRINTLN', '\"', 'IN', 'THE', 'SUB', '\"', '\\n']\n",
            "['210', 'GOSUB', '300', '\\n']\n",
            "['220', 'PRINTLN', '\"', 'BACK', 'FROM', '300', '\"', '\\n']\n",
            "['230', 'RET', '\\n']\n",
            "['300', 'PRINTLN', '\"', 'START', 'OF', '300', 'SUB', '\"', '\\n']\n",
            "['310', 'RET', '\\n']\n",
            "['320', 'END', '\\n']\n"
          ]
        }
      ]
    },
    {
      "cell_type": "code",
      "source": [
        "memory"
      ],
      "metadata": {
        "colab": {
          "base_uri": "https://localhost:8080/"
        },
        "id": "d4L8lpzqiy3U",
        "outputId": "07a13007-38d7-4186-ff39-82cb005d7258"
      },
      "execution_count": 58,
      "outputs": [
        {
          "output_type": "execute_result",
          "data": {
            "text/plain": [
              "{'10': ['PRINTLN', '\"', 'LINE', '10', '\"'],\n",
              " '20': ['GOSUB', '200'],\n",
              " '30': ['PRINTLN', '\"', 'LINE', '30', '\"'],\n",
              " '40': ['END'],\n",
              " '200': ['PRINTLN', '\"', 'IN', 'THE', 'SUB', '\"'],\n",
              " '210': ['GOSUB', '300'],\n",
              " '220': ['PRINTLN', '\"', 'BACK', 'FROM', '300', '\"'],\n",
              " '230': ['RET'],\n",
              " '300': ['PRINTLN', '\"', 'START', 'OF', '300', 'SUB', '\"'],\n",
              " '310': ['RET'],\n",
              " '320': ['END']}"
            ]
          },
          "metadata": {},
          "execution_count": 58
        }
      ]
    },
    {
      "cell_type": "code",
      "source": [],
      "metadata": {
        "id": "hL9xV1cS3Ydx"
      },
      "execution_count": 58,
      "outputs": []
    },
    {
      "cell_type": "code",
      "source": [
        "k = list(memory.keys())\n",
        "v = list(memory.values())"
      ],
      "metadata": {
        "id": "2l0uznNviy8r"
      },
      "execution_count": 59,
      "outputs": []
    },
    {
      "cell_type": "code",
      "source": [
        "print(k)"
      ],
      "metadata": {
        "colab": {
          "base_uri": "https://localhost:8080/"
        },
        "id": "-XJ3ss5VC9bA",
        "outputId": "97c7fa77-9482-4541-acbb-7e7c758bc286"
      },
      "execution_count": 60,
      "outputs": [
        {
          "output_type": "stream",
          "name": "stdout",
          "text": [
            "['10', '20', '30', '40', '200', '210', '220', '230', '300', '310', '320']\n"
          ]
        }
      ]
    },
    {
      "cell_type": "code",
      "source": [
        "print(v)"
      ],
      "metadata": {
        "colab": {
          "base_uri": "https://localhost:8080/"
        },
        "id": "1lm_dSnniy_n",
        "outputId": "5d800bab-956b-44ee-806b-e455aa76e013"
      },
      "execution_count": 61,
      "outputs": [
        {
          "output_type": "stream",
          "name": "stdout",
          "text": [
            "[['PRINTLN', '\"', 'LINE', '10', '\"'], ['GOSUB', '200'], ['PRINTLN', '\"', 'LINE', '30', '\"'], ['END'], ['PRINTLN', '\"', 'IN', 'THE', 'SUB', '\"'], ['GOSUB', '300'], ['PRINTLN', '\"', 'BACK', 'FROM', '300', '\"'], ['RET'], ['PRINTLN', '\"', 'START', 'OF', '300', 'SUB', '\"'], ['RET'], ['END']]\n"
          ]
        }
      ]
    },
    {
      "cell_type": "code",
      "source": [],
      "metadata": {
        "id": "efXn3nl_3Yez"
      },
      "execution_count": 61,
      "outputs": []
    },
    {
      "cell_type": "code",
      "source": [
        "line_stack = []\n",
        "num_stack = []\n",
        "x = 0\n",
        "while x < len(v):\n",
        "  # x+=1\n",
        "  # if memory[line_num][0] == \"INTEGER\":\n",
        "    # inst = \"\"\n",
        "    # for i in range(1,len(memory[line_num])):\n",
        "    #   inst += memory[line_num][i]\n",
        "    # print(\"inside integer \", inst)\n",
        "    # inst = inst.replace(\",\", \" \")\n",
        "    # set_variable(inst)\n",
        "\n",
        "\n",
        "  if v[x][0] == \"INTEGER\":\n",
        "    # print(\"inside integer\")\n",
        "    inst = \"\"\n",
        "    for i in range(1,len(v[x])):\n",
        "      inst += v[x][i]\n",
        "    # print(\"inside integer \", inst)\n",
        "    inst = inst.replace(\",\", \" \")\n",
        "    set_variable(inst)\n",
        "\n",
        "  elif v[x][0] == \"INPUT\":\n",
        "    inst = \"\"\n",
        "    # if len(v[x]) > 1:\n",
        "    #   for i in range(1,len(v[x])):\n",
        "    #     inst += v[x][i]\n",
        "    #   inst = inst.split(\",\")\n",
        "    #   print(\"Instruction to input \", inst)\n",
        "    # else:\n",
        "    print(v[x])\n",
        "    if v[x][1] in variables:\n",
        "      variables[v[x][1]] = input(\"Enter the value: \")\n",
        "    else:\n",
        "      print(\"Variable doesn't exist\")\n",
        "\n",
        "  elif v[x][0] == \"LET\":\n",
        "    # inst = \"\"\n",
        "    # for i in range(1,len(v[x])):\n",
        "    assign(v[x][1:])\n",
        "  \n",
        "\n",
        "  elif v[x][0] == \"END\":\n",
        "    break\n",
        "\n",
        "  elif v[x][0] == \"IF\":\n",
        "    condition = \"\"\n",
        "    i = 1\n",
        "    while v[x][i] != \"THEN\":\n",
        "      condition += v[x][i]\n",
        "      i+=1\n",
        "    # print(\"If condition: \", condition)\n",
        "\n",
        "    if evaluate_condition(condition):\n",
        "      i+=1\n",
        "      if v[x][i] == \"GOTO\":\n",
        "        i+=1\n",
        "        j=0\n",
        "        while k[j] != v[x][i]:\n",
        "          j+=1\n",
        "        x = j\n",
        "        # print(\"index of goto: \", j) \n",
        "        continue\n",
        "        # print(v[x])\n",
        "\n",
        "      elif v[x][i] == \"PRINT\" or v[x][i] == \"PRINTLN\":\n",
        "        \n",
        "        printf(v[x][i+1:])\n",
        "    else:\n",
        "      x+=1\n",
        "\n",
        "  elif v[x][0] == \"PRINT\" or v[x][0] == \"PRINTLN\":\n",
        "    printf(v[x][1:])\n",
        "\n",
        "  elif v[x][0] == \"GOTO\":\n",
        "    j = 0\n",
        "    while k[j] != v[x][1]:\n",
        "      j+=1\n",
        "    x = j\n",
        "\n",
        "  elif v[x][0] == \"GOSUB\":\n",
        "    # print(\"inside go sub\")\n",
        "    line_stack.append(k[x+1])\n",
        "    # print(line_stack)\n",
        "    j = 0\n",
        "    while k[j] != v[x][1]:\n",
        "      j+=1\n",
        "    x = j\n",
        "    continue\n",
        "    # if (v[x][1] in k):\n",
        "    #   # x = v[x][1]\n",
        "      \n",
        "    #   print(\"At \", x, \" : \", v[x])\n",
        "\n",
        "    # else:\n",
        "    #   print(\"Line number not found- \", v[x][1])\n",
        "\n",
        "  elif v[x][0] == \"RET\":\n",
        "    p = line_stack.pop()\n",
        "    # print(\"Popped item: \", p)\n",
        "\n",
        "    j = 0\n",
        "    while k[j] != p:\n",
        "      j+=1\n",
        "\n",
        "    x = j\n",
        "    continue\n",
        "    print(\"nex v: \", v[x])\n",
        "    # i = 0\n",
        "    # while i < len(k):\n",
        "    #   if k[i] != p:\n",
        "    #     continue\n",
        "    #   else:\n",
        "    #     x = k[i+1]\n",
        "\n",
        "    # print(\"inside ret\")\n",
        "    # print(v[x])\n",
        "\n",
        "  elif v[x][0] == \"PUSH\":\n",
        "    # print(\"inside push\")\n",
        "    expr = \"\"\n",
        "    j = 1\n",
        "    # print(v[x][1:])\n",
        "    while j < len(v[x]):\n",
        "      # print(v[x][j])\n",
        "      if v[x][j].isdigit():\n",
        "        expr+=v[x][j]\n",
        "\n",
        "      elif v[x][j].isalpha():\n",
        "        val = v[x][j]\n",
        "        d = variables[val]\n",
        "        expr+=str(d)\n",
        "\n",
        "      else:\n",
        "        expr+=v[x][j]\n",
        "      j+=1\n",
        "    num_stack.append(evaluate(expr))\n",
        "    \n",
        "  elif v[x][0] == \"POP\":\n",
        "    # print(v[x][1])\n",
        "    if v[x][1] in variables:\n",
        "      variables[v[x][1]] = num_stack.pop()\n",
        "      # num_stack.pop()\n",
        "\n",
        "  x+=1"
      ],
      "metadata": {
        "colab": {
          "base_uri": "https://localhost:8080/"
        },
        "id": "UkurpuP32KJO",
        "outputId": "372c884b-5669-4f1d-b170-c28e18cb8a75"
      },
      "execution_count": 62,
      "outputs": [
        {
          "output_type": "stream",
          "name": "stdout",
          "text": [
            "LINE 10 \n",
            "IN THE SUB \n",
            "START OF 300 SUB \n",
            "BACK FROM 300 \n",
            "LINE 30 \n"
          ]
        }
      ]
    },
    {
      "cell_type": "code",
      "source": [],
      "metadata": {
        "id": "qKGcwnCJ3YiE"
      },
      "execution_count": 62,
      "outputs": []
    },
    {
      "cell_type": "code",
      "source": [],
      "metadata": {
        "id": "1POougby3Yk2"
      },
      "execution_count": null,
      "outputs": []
    },
    {
      "cell_type": "code",
      "source": [],
      "metadata": {
        "id": "vVcWwzx13Ynq"
      },
      "execution_count": null,
      "outputs": []
    },
    {
      "cell_type": "code",
      "source": [],
      "metadata": {
        "id": "g_ezXBOF3YrJ"
      },
      "execution_count": null,
      "outputs": []
    }
  ]
}