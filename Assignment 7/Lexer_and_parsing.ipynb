{
  "cells": [
    {
      "cell_type": "code",
      "execution_count": 1,
      "metadata": {
        "colab": {
          "base_uri": "https://localhost:8080/"
        },
        "id": "dR30uElsUpE0",
        "outputId": "9a536921-176c-443a-d99e-d67dec9d2364"
      },
      "outputs": [
        {
          "name": "stdout",
          "output_type": "stream",
          "text": [
            "Enter/Paste your content. Ctrl-D or Ctrl-Z ( windows ) to save it.\n"
          ]
        }
      ],
      "source": [
        "print(\"Enter/Paste your content. Ctrl-D or Ctrl-Z ( windows ) to save it.\")\n",
        "contents = []\n",
        "while True:\n",
        "    try:\n",
        "        line = input()\n",
        "    except EOFError:\n",
        "        break\n",
        "    contents.append(line)"
      ]
    },
    {
      "cell_type": "code",
      "execution_count": null,
      "metadata": {
        "colab": {
          "base_uri": "https://localhost:8080/"
        },
        "id": "PVtgS7T0_TNp",
        "outputId": "d56726f1-0163-45d8-8eab-f6939c2a02d0"
      },
      "outputs": [
        {
          "data": {
            "text/plain": [
              "['LET A = 4  LET B = 5  LET C = A * B + 7  PRINT A  PRINT \" * \"  PRINT B  PRINT \" + 7 = \"  PRINTLN C']"
            ]
          },
          "execution_count": 4,
          "metadata": {},
          "output_type": "execute_result"
        }
      ],
      "source": [
        "contents"
      ]
    },
    {
      "cell_type": "code",
      "execution_count": 1,
      "metadata": {
        "id": "cshAJTo1CuGH"
      },
      "outputs": [],
      "source": [
        "keywords = [\"LET\"\n",
        "            \"PRINT\",\n",
        "            \"PRINTLN\",\n",
        "            \"INTEGER\",\n",
        "            \"INPUT\",\n",
        "            \"GOTO\",\n",
        "            \"IF\"\n",
        "            \"THEN\",\n",
        "            \"END\"]"
      ]
    },
    {
      "cell_type": "code",
      "execution_count": 2,
      "metadata": {
        "id": "G5edm5iIfvZE"
      },
      "outputs": [],
      "source": [
        "lines = {}"
      ]
    },
    {
      "cell_type": "code",
      "execution_count": 3,
      "metadata": {
        "id": "VnTy3oPZP1Kj"
      },
      "outputs": [],
      "source": [
        "instructions = {}"
      ]
    },
    {
      "cell_type": "code",
      "execution_count": 4,
      "metadata": {
        "id": "e1tRLtR4ACbH"
      },
      "outputs": [],
      "source": [
        "contents = [\"50 IF A ! B THEN GOTO 80 \\n\",\n",
        "            \"60 LET C = A * B \\n\",\n",
        "            \"65 PRINT \\\"a * b = \\\" \\n\",\n",
        "            \"70 PRINTLN C \\n\",\n",
        "            \"80 X = C + X \\n\"]"
      ]
    },
    {
      "cell_type": "code",
      "execution_count": 5,
      "metadata": {
        "id": "eJlRzNH__TQQ"
      },
      "outputs": [],
      "source": [
        "input_file = open(\"input_file.txt\", \"w\")"
      ]
    },
    {
      "cell_type": "code",
      "execution_count": 6,
      "metadata": {
        "id": "Dqy-iV0c_TTG"
      },
      "outputs": [],
      "source": [
        "input_file.writelines(contents)"
      ]
    },
    {
      "cell_type": "code",
      "execution_count": 7,
      "metadata": {
        "id": "vnD4IvGk_TVs"
      },
      "outputs": [],
      "source": [
        "input_file.close()"
      ]
    },
    {
      "cell_type": "code",
      "execution_count": 8,
      "metadata": {
        "id": "FOXGZeCl_TYZ"
      },
      "outputs": [],
      "source": [
        "input_file = open(\"input_file.txt\", \"r\")\n",
        "# print(input_file.read())\n",
        "input_file.close()"
      ]
    },
    {
      "cell_type": "code",
      "execution_count": 9,
      "metadata": {
        "id": "XUYnb_27DIf9"
      },
      "outputs": [],
      "source": [
        "variables = {}"
      ]
    },
    {
      "cell_type": "code",
      "execution_count": 10,
      "metadata": {
        "id": "aJAv9TLKDuul"
      },
      "outputs": [],
      "source": [
        "def assign(op : tuple):\n",
        "  for i in range(1,len(op)):\n",
        "    if op[i] == \"=\":\n",
        "      # assign the value to the variable\n",
        "      if (op[i+1].isnumeric()): \n",
        "        # print(op[i+1])\n",
        "        variables[op[i-1]] = op[i+1] \n",
        "\n",
        "      # assign the equation to the variable after evaluating the equation\n",
        "      else:\n",
        "        # print(op[i+1])\n",
        "        equation = \"\"\n",
        "        for i in range(len(op)-2):\n",
        "          if op[i+2].isalpha():\n",
        "            op[i+2] = variables[op[i+2]]\n",
        "            equation+=op[i+2]\n",
        "\n",
        "          else:\n",
        "            equation+=op[i+2]\n",
        "\n",
        "\n",
        "          # assign value to op[0]\n",
        "\n",
        "          # convert the equation letters to number from dictionary\n",
        "        variables[op[0]] = evaluate(equation)"
      ]
    },
    {
      "cell_type": "code",
      "execution_count": 11,
      "metadata": {
        "id": "NbTE--p5K3mw"
      },
      "outputs": [],
      "source": [
        "def printf(op : tuple):\n",
        "  for i in range(len(op)):\n",
        "    if(op[i].isalpha()):\n",
        "      print(variables[op[i]], end=\"\")\n",
        "\n",
        "    else:\n",
        "      if op[i] == \"\\\"\":\n",
        "        continue\n",
        "      print(op[i], end=\"\")"
      ]
    },
    {
      "cell_type": "code",
      "execution_count": 12,
      "metadata": {
        "id": "mrx0AEpSGIxn"
      },
      "outputs": [],
      "source": [
        "def precedence(op):\n",
        "     \n",
        "    if op == '+' or op == '-':\n",
        "        return 1\n",
        "    if op == '*' or op == '/':\n",
        "        return 2\n",
        "    return 0"
      ]
    },
    {
      "cell_type": "code",
      "execution_count": 13,
      "metadata": {
        "id": "XCRGafa3GIxo"
      },
      "outputs": [],
      "source": [
        "def applyOp(a, b, op):\n",
        "     \n",
        "    if op == '+': return a + b\n",
        "    if op == '-': return a - b\n",
        "    if op == '*': return a * b\n",
        "    if op == '/': return a // b"
      ]
    },
    {
      "cell_type": "code",
      "execution_count": 14,
      "metadata": {
        "id": "SkpHpf12GIxo"
      },
      "outputs": [],
      "source": [
        "def evaluate(tokens):\n",
        "     \n",
        "    values = []\n",
        "\n",
        "    ops = []\n",
        "    i = 0\n",
        "     \n",
        "    while i < len(tokens):\n",
        "\n",
        "        if tokens[i] == ' ':\n",
        "            i += 1\n",
        "            continue\n",
        "\n",
        "        elif tokens[i] == '(':\n",
        "            ops.append(tokens[i])\n",
        "            \n",
        "        elif tokens[i].isdigit():\n",
        "            val = 0\n",
        "            while (i < len(tokens) and\n",
        "                tokens[i].isdigit()):\n",
        "                val = (val * 10) + int(tokens[i])\n",
        "                i += 1           \n",
        "            values.append(val)\n",
        "            i-=1\n",
        "\n",
        "        elif tokens[i] == ')':        \n",
        "            while len(ops) != 0 and ops[-1] != '(':           \n",
        "                val2 = values.pop()\n",
        "                val1 = values.pop()\n",
        "                op = ops.pop()              \n",
        "                values.append(applyOp(val1, val2, op))\n",
        "\n",
        "            ops.pop()\n",
        "      \n",
        "        else:\n",
        "            while (len(ops) != 0 and\n",
        "                precedence(ops[-1]) >=\n",
        "                   precedence(tokens[i])):\n",
        "                         \n",
        "                val2 = values.pop()\n",
        "                val1 = values.pop()\n",
        "                op = ops.pop()\n",
        "                 \n",
        "                values.append(applyOp(val1, val2, op))\n",
        " \n",
        "            ops.append(tokens[i])\n",
        "         \n",
        "        i += 1\n",
        "\n",
        "    while len(ops) != 0:\n",
        "         \n",
        "        val2 = values.pop()\n",
        "        val1 = values.pop()\n",
        "        op = ops.pop()\n",
        "                 \n",
        "        values.append(applyOp(val1, val2, op))\n",
        "\n",
        "    return values[-1]\n",
        " \n",
        "# # Driver Code\n",
        "# if __name__ == \"__main__\":\n",
        "     \n",
        "#     print(evaluate(\"4 * 5 + 7\"))\n",
        "#     print(evaluate(\"100 * 2 + 12\"))\n",
        "#     print(evaluate(\"100 * ( 2 + 12 )\"))\n",
        "#     print(evaluate(\"100 * ( 2 + 12 ) / 14\"))\n",
        " \n",
        "# # This code is contributed\n",
        "# # by Rituraj Jain"
      ]
    },
    {
      "cell_type": "code",
      "execution_count": 15,
      "metadata": {
        "colab": {
          "base_uri": "https://localhost:8080/"
        },
        "id": "4n9AqbQL_TbJ",
        "outputId": "7a9ddede-1bb2-4e96-db11-00f102c97ef1"
      },
      "outputs": [],
      "source": [
        "input_file = open(\"input_file.txt\", \"r\")\n",
        "\n",
        "for line in input_file.readlines():\n",
        "  \n",
        "  line_content = line.split(\" \")\n",
        "  # print(line_content)\n",
        "  if line_content[0] == \"LET\":\n",
        "    assign(line_content[1:-1])\n",
        "\n",
        "  elif line_content[0] == \"PRINT\" or line_content[0] == \"PRINTLN\":\n",
        "    printf(line_content[1:-1])"
      ]
    },
    {
      "cell_type": "code",
      "execution_count": 16,
      "metadata": {
        "colab": {
          "base_uri": "https://localhost:8080/"
        },
        "id": "AsUK1yGTCrtj",
        "outputId": "7d3b1042-3b48-41c7-fe40-d439fb3287bf"
      },
      "outputs": [
        {
          "data": {
            "text/plain": [
              "{}"
            ]
          },
          "execution_count": 16,
          "metadata": {},
          "output_type": "execute_result"
        }
      ],
      "source": [
        "variables"
      ]
    },
    {
      "cell_type": "code",
      "execution_count": null,
      "metadata": {
        "id": "TUm9JmZ3dvn5"
      },
      "outputs": [],
      "source": []
    }
  ],
  "metadata": {
    "colab": {
      "collapsed_sections": [],
      "provenance": []
    },
    "kernelspec": {
      "display_name": "Python 3.9.7 ('base')",
      "language": "python",
      "name": "python3"
    },
    "language_info": {
      "codemirror_mode": {
        "name": "ipython",
        "version": 3
      },
      "file_extension": ".py",
      "mimetype": "text/x-python",
      "name": "python",
      "nbconvert_exporter": "python",
      "pygments_lexer": "ipython3",
      "version": "3.9.7"
    },
    "vscode": {
      "interpreter": {
        "hash": "1b691a792427e2d7b0c3074631a6c588f166e3a5e650349f5c5fb1c8a02de4ce"
      }
    }
  },
  "nbformat": 4,
  "nbformat_minor": 0
}
